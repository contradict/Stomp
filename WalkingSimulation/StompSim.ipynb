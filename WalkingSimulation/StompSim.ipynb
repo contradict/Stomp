{
 "cells": [
  {
   "cell_type": "code",
   "execution_count": null,
   "metadata": {},
   "outputs": [],
   "source": [
    "using Pkg\n",
    "pkg\"add MeshCat\"\n",
    "pkg\"add MeshCatMechanisms\"\n",
    "pkg\"add RigidBodySim\"\n",
    "pkg\"add RigidBodyDynamics\"\n",
    "pkg\"add StaticArrays\""
   ]
  },
  {
   "cell_type": "code",
   "execution_count": null,
   "metadata": {},
   "outputs": [],
   "source": [
    "using MeshCatMechanisms\n",
    "using RigidBodyDynamics\n",
    "using RigidBodySim\n",
    "using MeshCat\n",
    "using StaticArrays"
   ]
  },
  {
   "cell_type": "code",
   "execution_count": null,
   "metadata": {},
   "outputs": [],
   "source": [
    "vis = Visualizer()\n",
    "open(vis)"
   ]
  },
  {
   "cell_type": "code",
   "execution_count": null,
   "metadata": {},
   "outputs": [],
   "source": [
    "basename=\"Stomp\"\n",
    "urdf = basename * \".urdf\"\n",
    "run(`/bin/bash -c '. /opt/ros/melodic/setup.bash \\&\\& xacro --inorder --check-order -o '$(urdf)' '$(basename)'.xacro'`)\n",
    "stomp = parse_urdf(urdf)\n",
    "remove_fixed_tree_joints!(stomp);\n",
    "delete!(vis)\n",
    "mvis = MechanismVisualizer(stomp, URDFVisuals(urdf), vis)"
   ]
  },
  {
   "cell_type": "code",
   "execution_count": null,
   "metadata": {},
   "outputs": [],
   "source": [
    "state = MechanismState(stomp)\n",
    "open_loop_dynamics = Dynamics(stomp)"
   ]
  },
  {
   "cell_type": "code",
   "execution_count": null,
   "metadata": {},
   "outputs": [],
   "source": [
    "final_time = 10.\n",
    "problem = ODEProblem(open_loop_dynamics, state, (0., final_time))"
   ]
  },
  {
   "cell_type": "code",
   "execution_count": null,
   "metadata": {},
   "outputs": [],
   "source": [
    "gui_callback = CallbackSet(mvis)\n",
    "rate_limiter = RealtimeRateLimiter(max_rate = 1.)\n",
    "callbacks = CallbackSet(gui_callback,rate_limiter)\n",
    "sol = solve(problem, Tsit5(), abs_tol=1e-10, dt=0.05, callback=callbacks)"
   ]
  },
  {
   "cell_type": "code",
   "execution_count": null,
   "metadata": {},
   "outputs": [],
   "source": []
  }
 ],
 "metadata": {
  "@webio": {
   "lastCommId": null,
   "lastKernelId": null
  },
  "kernelspec": {
   "display_name": "Julia 8 Threads 1.3.1",
   "language": "julia",
   "name": "julia-8-threads-1.3"
  },
  "language_info": {
   "file_extension": ".jl",
   "mimetype": "application/julia",
   "name": "julia",
   "version": "1.3.1"
  }
 },
 "nbformat": 4,
 "nbformat_minor": 2
}
