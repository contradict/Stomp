{
 "cells": [
  {
   "cell_type": "code",
   "execution_count": null,
   "metadata": {},
   "outputs": [],
   "source": [
    "using Pkg\n",
    "pkg\"add MeshCat\"\n",
    "pkg\"add MeshCatMechanisms\"\n",
    "pkg\"add RigidBodySim\"\n",
    "pkg\"add RigidBodyDynamics\"\n",
    "pkg\"add StaticArrays\""
   ]
  },
  {
   "cell_type": "code",
   "execution_count": null,
   "metadata": {},
   "outputs": [],
   "source": [
    "using MeshCatMechanisms\n",
    "using RigidBodyDynamics\n",
    "using MeshCat\n",
    "using StaticArrays"
   ]
  },
  {
   "cell_type": "code",
   "execution_count": null,
   "metadata": {},
   "outputs": [],
   "source": [
    "vis = Visualizer()\n",
    "open(vis)"
   ]
  },
  {
   "cell_type": "code",
   "execution_count": null,
   "metadata": {},
   "outputs": [],
   "source": [
    "basename=\"Stomp\"\n",
    "urdf = basename * \".urdf\"\n",
    "run(`/bin/bash -c '. /opt/ros/melodic/setup.bash \\&\\& xacro --inorder --check-order -o '$(urdf)' '$(basename)'.xacro'`)\n",
    "stomp = parse_urdf(urdf)"
   ]
  },
  {
   "cell_type": "code",
   "execution_count": null,
   "metadata": {},
   "outputs": [],
   "source": [
    "delete!(vis)\n",
    "mvis = MechanismVisualizer(stomp, URDFVisuals(urdf), vis)"
   ]
  },
  {
   "cell_type": "code",
   "execution_count": null,
   "metadata": {},
   "outputs": [],
   "source": [
    "stomp.graph.vertices"
   ]
  },
  {
   "cell_type": "code",
   "execution_count": null,
   "metadata": {},
   "outputs": [],
   "source": [
    "stomp.graph.edges"
   ]
  },
  {
   "cell_type": "code",
   "execution_count": null,
   "metadata": {},
   "outputs": [],
   "source": [
    "c1y = Joint(\"c1y\", Revolute([1.0, 0, 0]))\n",
    "before_c1y_to_c1r = Transform3D(frame_before(c1y), frame_after(stomp.graph.edges[5]), SVector(1,0,0))\n",
    "j1_to_after_c1y = Transform3D(frame_after(stomp.graph.edges[2]), frame_after(c1y), SVector(-1,0,0))\n",
    "attach!(stomp, stomp.graph.vertices[6], stomp.graph.vertices[3], c1y,\n",
    "        joint_pose = before_c1y_to_c1r, successor_pose=j1_to_after_c1y)"
   ]
  },
  {
   "cell_type": "code",
   "execution_count": null,
   "metadata": {},
   "outputs": [],
   "source": [
    "write_urdf(\"test.urdf\", stomp, robot_name=\"stomp\")"
   ]
  },
  {
   "cell_type": "code",
   "execution_count": null,
   "metadata": {},
   "outputs": [],
   "source": [
    "delete!(vis)\n",
    "mvis = MechanismVisualizer(stomp, URDFVisuals(urdf), vis)\n",
    "# set_configuration!(mvis, [0, 0])"
   ]
  },
  {
   "cell_type": "code",
   "execution_count": null,
   "metadata": {},
   "outputs": [],
   "source": [
    "?Transform3D"
   ]
  },
  {
   "cell_type": "code",
   "execution_count": null,
   "metadata": {},
   "outputs": [],
   "source": [
    "set_configuration!(mvis, [0.4, -0.2, 0.0, -0.30, 0.02])"
   ]
  },
  {
   "cell_type": "code",
   "execution_count": null,
   "metadata": {},
   "outputs": [],
   "source": [
    "30 * π / 180"
   ]
  },
  {
   "cell_type": "code",
   "execution_count": null,
   "metadata": {},
   "outputs": [],
   "source": [
    "urdf = \"Leg.urdf\"\n",
    "leg = parse_urdf(urdf)"
   ]
  },
  {
   "cell_type": "code",
   "execution_count": null,
   "metadata": {},
   "outputs": [],
   "source": [
    "findjoint(leg, \"pivot_cylinder_slide\").frame_before, findjoint(leg, \"pivot\")"
   ]
  },
  {
   "cell_type": "code",
   "execution_count": null,
   "metadata": {},
   "outputs": [],
   "source": [
    "py = Joint(\"pivot_yoke\", Revolute(SVector(0,0,1.0)))\n",
    "before_py_to_after_ps = Transform3D(frame_before(py), frame_after(findjoint(leg, \"pivot_cylinder_slide\")),\n",
    "                                    SVector(0,0,0.1))\n",
    "hip_to_py = Transform3D(frame_after(findjoint(leg, \"pivot\")), frame_after(py),\n",
    "                        SVector(0,0.1,0))\n",
    "attach!(leg, findbody(leg, \"pivot_rod\"), findbody(leg, \"hip\"), py,\n",
    "    joint_pose=before_py_to_after_ps, successor_pose=hip_to_py)"
   ]
  },
  {
   "cell_type": "code",
   "execution_count": null,
   "metadata": {},
   "outputs": [],
   "source": [
    "delete!(vis)\n",
    "mvis = MechanismVisualizer(leg, URDFVisuals(urdf), vis)"
   ]
  },
  {
   "cell_type": "code",
   "execution_count": null,
   "metadata": {},
   "outputs": [],
   "source": [
    "state = MechanismState(leg)\n",
    "result = DynamicsResult(leg)\n",
    "dynamics!(result, state)\n",
    "result"
   ]
  },
  {
   "cell_type": "code",
   "execution_count": null,
   "metadata": {},
   "outputs": [],
   "source": [
    "set_configuration!(mvis, )"
   ]
  },
  {
   "cell_type": "code",
   "execution_count": null,
   "metadata": {},
   "outputs": [],
   "source": [
    "frame_after(findjoint(leg, \"pivot_cylinder_slide\"))"
   ]
  },
  {
   "cell_type": "code",
   "execution_count": null,
   "metadata": {},
   "outputs": [],
   "source": [
    "?frame_before"
   ]
  },
  {
   "cell_type": "code",
   "execution_count": null,
   "metadata": {},
   "outputs": [],
   "source": [
    "?attach!"
   ]
  },
  {
   "cell_type": "code",
   "execution_count": null,
   "metadata": {},
   "outputs": [],
   "source": []
  }
 ],
 "metadata": {
  "git": {
   "suppress_outputs": true
  },
  "kernelspec": {
   "display_name": "Julia 8 Threads 1.3.1",
   "language": "julia",
   "name": "julia-8-threads-1.3"
  },
  "language_info": {
   "file_extension": ".jl",
   "mimetype": "application/julia",
   "name": "julia",
   "version": "1.3.1"
  }
 },
 "nbformat": 4,
 "nbformat_minor": 2
}
